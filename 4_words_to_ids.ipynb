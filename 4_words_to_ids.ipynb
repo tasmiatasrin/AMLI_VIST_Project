{
 "cells": [
  {
   "cell_type": "code",
   "execution_count": 16,
   "id": "ceba5eb1",
   "metadata": {},
   "outputs": [
    {
     "data": {
      "text/plain": [
       "<function TextIOWrapper.close()>"
      ]
     },
     "execution_count": 16,
     "metadata": {},
     "output_type": "execute_result"
    }
   ],
   "source": [
    "# grab vocabulary\n",
    "\n",
    "import os\n",
    "\n",
    "import json\n",
    "\n",
    "# open JSON file\n",
    "v = open('train_vocabulary.json') # vocabulary\n",
    "d = open('tsplit1_dictionary.json') # stories\n",
    "\n",
    "# returns JSON object as a dictionary\n",
    "vocab = json.load(v)\n",
    "tsplit_dict = json.load(d)\n",
    "\n",
    "# close file\n",
    "# f.close\n",
    "v.close\n",
    "d.close"
   ]
  },
  {
   "cell_type": "code",
   "execution_count": 17,
   "id": "c3f69e96",
   "metadata": {
    "scrolled": true
   },
   "outputs": [
    {
     "data": {
      "text/plain": [
       "(27473, 3040)"
      ]
     },
     "execution_count": 17,
     "metadata": {},
     "output_type": "execute_result"
    }
   ],
   "source": [
    "vocab_keys = [key for key in vocab.keys()]\n",
    "story_keys = [key for key in tsplit_dict.keys()]\n",
    "\n",
    "len(vocab_keys), len(story_keys)"
   ]
  },
  {
   "cell_type": "code",
   "execution_count": 29,
   "id": "6f479756",
   "metadata": {},
   "outputs": [
    {
     "data": {
      "text/plain": [
       "['We went to the beach today.',\n",
       " 'We enjoyed walking on the dock and checking out the view.',\n",
       " 'We did some wading in the water.',\n",
       " 'We watched the surfers.',\n",
       " 'We got to fly kites today too.']"
      ]
     },
     "execution_count": 29,
     "metadata": {},
     "output_type": "execute_result"
    }
   ],
   "source": [
    "tsplit_dict[story_keys[0]]['sentences']"
   ]
  },
  {
   "cell_type": "code",
   "execution_count": 28,
   "id": "7d22c696",
   "metadata": {
    "scrolled": true
   },
   "outputs": [
    {
     "data": {
      "text/plain": [
       "[[17, 90, 7, 20, 2943, 293],\n",
       " [17, 609, 53, 183, 20, 3047, 10, 3886, 23, 20, 117],\n",
       " [17, 1029, 84, 10349, 3, 20, 118],\n",
       " [17, 627, 20, 8573],\n",
       " [17, 298, 7, 2358, 4621, 293, 190]]"
      ]
     },
     "execution_count": 28,
     "metadata": {},
     "output_type": "execute_result"
    }
   ],
   "source": [
    "tsplit_vsent[0]"
   ]
  },
  {
   "cell_type": "code",
   "execution_count": 32,
   "id": "8c1714b1",
   "metadata": {},
   "outputs": [
    {
     "data": {
      "text/plain": [
       "117"
      ]
     },
     "execution_count": 32,
     "metadata": {},
     "output_type": "execute_result"
    }
   ],
   "source": [
    "vocab['view']"
   ]
  },
  {
   "cell_type": "code",
   "execution_count": 26,
   "id": "7a30ff04",
   "metadata": {},
   "outputs": [
    {
     "name": "stdout",
     "output_type": "stream",
     "text": [
      "Finished! Length: 3040\n"
     ]
    }
   ],
   "source": [
    "import re\n",
    "\n",
    "# vectorize\n",
    "five_vsentences = []\n",
    "tsplit_vsent = []\n",
    "\n",
    "for key in story_keys: # grab each story id\n",
    "    for sentence in tsplit_dict[key]['sentences']: # grab sentence from sentence list\n",
    "        \n",
    "        res = re.findall(r'\\w+', sentence) # grabs only the words of the sentence\n",
    "        \n",
    "        v_sentence = [] # vectorize the sentence\n",
    "        for word in res:\n",
    "            word = word.lower()\n",
    "            v_word = vocab[word]\n",
    "            v_sentence.append(v_word)\n",
    "        five_vsentences.append(v_sentence) # store the set of 5 sentences\n",
    "        \n",
    "        if len(five_vsentences) == 5: # store into tsplit_vsent\n",
    "            tsplit_vsent.append(five_vsentences)\n",
    "            five_vsentences = []\n",
    "            \n",
    "print(f'Finished! Length: {len(tsplit_vsent)}') "
   ]
  }
 ],
 "metadata": {
  "kernelspec": {
   "display_name": "Python 3",
   "language": "python",
   "name": "python3"
  },
  "language_info": {
   "codemirror_mode": {
    "name": "ipython",
    "version": 3
   },
   "file_extension": ".py",
   "mimetype": "text/x-python",
   "name": "python",
   "nbconvert_exporter": "python",
   "pygments_lexer": "ipython3",
   "version": "3.8.8"
  }
 },
 "nbformat": 4,
 "nbformat_minor": 5
}
