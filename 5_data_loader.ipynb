{
 "cells": [
  {
   "cell_type": "code",
   "execution_count": null,
   "id": "4fd17f26",
   "metadata": {},
   "outputs": [],
   "source": []
  },
  {
   "cell_type": "code",
   "execution_count": null,
   "id": "cda07042",
   "metadata": {},
   "outputs": [],
   "source": [
    "def read_image(img_path, size=IMAGE_SIZE):\n",
    "    img = tf.io.read_file(img_path)\n",
    "    img = tf.image.decode_jpeg(img, channels=3)\n",
    "    img = tf.image.resize(img, IMAGE_SIZE)\n",
    "    img = tf.image.convert_image_dtype(img, tf.float32)\n",
    "    return img\n",
    "\n",
    "\n",
    "def make_dataset(images, captions):\n",
    "    img_dataset = tf.data.Dataset.from_tensor_slices(images).map(\n",
    "        read_image, num_parallel_calls=AUTOTUNE\n",
    "    )\n",
    "    cap_dataset = tf.data.Dataset.from_tensor_slices(captions).map(\n",
    "        vectorization, num_parallel_calls=AUTOTUNE\n",
    "    )\n",
    "    dataset = tf.data.Dataset.zip((img_dataset, cap_dataset))\n",
    "    dataset = dataset.batch(BATCH_SIZE).shuffle(256).prefetch(AUTOTUNE)\n",
    "    return dataset\n",
    "\n",
    "\n",
    "# Pass the list of images and the list of corresponding captions\n",
    "train_dataset = make_dataset(list(train_data.keys()), list(train_data.values()))\n",
    "valid_dataset = make_dataset(list(valid_data.keys()), list(valid_data.values()))"
   ]
  }
 ],
 "metadata": {
  "kernelspec": {
   "display_name": "Python 3",
   "language": "python",
   "name": "python3"
  },
  "language_info": {
   "codemirror_mode": {
    "name": "ipython",
    "version": 3
   },
   "file_extension": ".py",
   "mimetype": "text/x-python",
   "name": "python",
   "nbconvert_exporter": "python",
   "pygments_lexer": "ipython3",
   "version": "3.8.8"
  }
 },
 "nbformat": 4,
 "nbformat_minor": 5
}
