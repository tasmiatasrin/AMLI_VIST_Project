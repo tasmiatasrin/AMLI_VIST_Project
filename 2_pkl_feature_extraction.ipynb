{
 "cells": [
  {
   "cell_type": "code",
   "execution_count": null,
   "id": "d927a95e",
   "metadata": {},
   "outputs": [],
   "source": [
    "!python3 -m pip install --upgrade Pillow"
   ]
  },
  {
   "cell_type": "code",
   "execution_count": null,
   "id": "f02eec83",
   "metadata": {},
   "outputs": [],
   "source": [
    "import tensorflow as tf\n",
    "\n",
    "from tensorflow.keras.preprocessing import image\n",
    "from tensorflow.keras.applications.resnet50 import preprocess_input, decode_predictions\n",
    "from keras.applications.resnet50 import ResNet50\n",
    "\n",
    "model = ResNet50(weights='imagenet', include_top=False)\n",
    "model.summary()"
   ]
  },
  {
   "cell_type": "code",
   "execution_count": null,
   "id": "b78432a4",
   "metadata": {},
   "outputs": [],
   "source": [
    "import tensorflow as tf\n",
    "\n",
    "from tensorflow.keras.preprocessing import image\n",
    "from tensorflow.keras.applications.resnet50 import preprocess_input, decode_predictions\n",
    "from keras.preprocessing.image import load_img\n",
    "import numpy as np\n",
    "from keras.preprocessing import image\n",
    "from keras.applications.resnet50 import ResNet50\n",
    "from PIL import Image\n",
    "import pickle as pkl\n",
    "\n",
    "def extract_features(image_names, image_dir, output_dir):\n",
    "    os.chdir(image_dir) \n",
    "    \n",
    "    for i in range(0,len(image_names)):\n",
    "        \n",
    "        # change to the image folder\n",
    "        os.chdir(image_dir)\n",
    "        \n",
    "        # grab image\n",
    "        img_path = image_dir + image_names[i]\n",
    "        img = image.load_img(img_path, target_size=(224, 224))\n",
    "        x = image.img_to_array(img)\n",
    "        x = np.expand_dims(x, axis=0)\n",
    "        x = preprocess_input(x)\n",
    "\n",
    "        # grab features from image\n",
    "        features = model.predict(x)\n",
    "        print(features)\n",
    "    \n",
    "        # add .pickle\n",
    "        if '.jpg' in image_names[i]:\n",
    "            image_names[i]=image_names[i].replace('.jpg', '.pkl')\n",
    "        if '.png' in image_names[i]:\n",
    "            image_names[i]=image_names[i].replace('.png', '.pkl')\n",
    "\n",
    "            \n",
    "        # change to the output folder \n",
    "        os.chdir(output_dir) \n",
    "        \n",
    "        # convert to pkl\n",
    "        with open(image_names[i], 'wb') as f:\n",
    "            pkl.dump(features, f)\n",
    "        \n",
    "        \n",
    "        # check to see if 3 pkl files were outputed to the output folder \n",
    "        if i == 3:\n",
    "            break\n",
    "        \n",
    "        if i >= 0:\n",
    "            print(f\"Pickled {i} images\")"
   ]
  },
  {
   "cell_type": "code",
   "execution_count": null,
   "id": "1fd5a265",
   "metadata": {},
   "outputs": [],
   "source": [
    "import os\n",
    "\n",
    "# the directory of the folder with the images\n",
    "image_dir = '/Users/javi/Desktop/AMLI/Capstone/Python/images/train/'\n",
    "\n",
    "# the directory of the folder to hold the pkl files\n",
    "output_dir = '/Users/javi/Desktop/AMLI/Capstone/Python/pickles/val_pickles'"
   ]
  },
  {
   "cell_type": "code",
   "execution_count": null,
   "id": "b4184b29",
   "metadata": {},
   "outputs": [],
   "source": [
    "# grab the name of the images\n",
    "image_names = []\n",
    "for i in os.listdir(image_dir):\n",
    "    image_names.append(i)\n",
    "\n",
    "# number of images\n",
    "len(image_names)"
   ]
  },
  {
   "cell_type": "code",
   "execution_count": null,
   "id": "cfaa44b2",
   "metadata": {},
   "outputs": [],
   "source": [
    "testing_features = extract_features(image_names, image_dir, output_dir)\n",
    "\n",
    "# number of items in output folder should match the number of images\n",
    "len(os.listdir(output_dir))"
   ]
  }
 ],
 "metadata": {
  "kernelspec": {
   "display_name": "Python 3",
   "language": "python",
   "name": "python3"
  },
  "language_info": {
   "codemirror_mode": {
    "name": "ipython",
    "version": 3
   },
   "file_extension": ".py",
   "mimetype": "text/x-python",
   "name": "python",
   "nbconvert_exporter": "python",
   "pygments_lexer": "ipython3",
   "version": "3.7.10"
  }
 },
 "nbformat": 4,
 "nbformat_minor": 5
}
